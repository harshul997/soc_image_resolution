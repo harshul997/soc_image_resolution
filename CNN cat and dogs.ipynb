{
 "cells": [
  {
   "cell_type": "code",
   "execution_count": 1,
   "id": "cc1b6d4e",
   "metadata": {},
   "outputs": [],
   "source": [
    "import torch.nn as nn\n",
    "import torch.nn.functional as F\n",
    "from PIL import Image\n",
    "import numpy as np\n",
    "\n",
    "base_dir = \"Downloads/cat and dog dataset\"\n",
    "train_path_cats = base_dir + \"/training_set/training_set/cats\"\n",
    "train_path_dogs = base_dir + \"/training_set/training_set/dogs\"\n",
    "\n",
    "test_path_cats = base_dir + \"/test_set/test_set/cats\"        \n",
    "test_path_dogs = base_dir + \"/test_set/test_set/dogs\"\n",
    "\n",
    "# print(train_path_cats)\n",
    "# print(train_path_dogs)\n",
    "# print(test_path_cats)\n",
    "# print(test_path_dogs)"
   ]
  },
  {
   "cell_type": "code",
   "execution_count": 2,
   "id": "0aaabab7",
   "metadata": {},
   "outputs": [
    {
     "name": "stdout",
     "output_type": "stream",
     "text": [
      "(8005, 1, 128, 128)\n",
      "(8005,)\n",
      "[   0    1    2 ... 8002 8003 8004]\n",
      "[2037  149 6138 ... 7050 7585 4045]\n"
     ]
    }
   ],
   "source": [
    "import os\n",
    "import matplotlib.pyplot as plt\n",
    "img_size = (128, 128)\n",
    "def load_data_from_folder(folder_path):\n",
    "    images=[]\n",
    "    for filename in os.listdir(folder_path):\n",
    "        if filename.endswith(('jpg', 'png')):\n",
    "            img_path = os.path.join(folder_path, filename)\n",
    "    #         print(img_path)\n",
    "            img = Image.open(img_path)\n",
    "            img = img.resize(img_size, Image.Resampling.LANCZOS)\n",
    "            img = img.convert('L')\n",
    "            \n",
    "            img = np.array(img)\n",
    "            img = img.reshape(1, 128, 128)\n",
    "    #         plt.imshow(img, cmap='gray')\n",
    "    #         plt.axis('off')\n",
    "    #         plt.show()\n",
    "            images.append(img)\n",
    "    \n",
    "    return images\n",
    "        \n",
    "train_cat = load_data_from_folder(train_path_cats)\n",
    "t_cat_label = np.zeros(len(train_cat))\n",
    "train_dog = load_data_from_folder(train_path_dogs)\n",
    "t_dog_label = np.ones(len(train_dog))\n",
    "\n",
    "train_data = np.vstack((train_cat, train_dog))\n",
    "train_label = np.hstack((t_dog_label, t_cat_label))\n",
    "# print(np.shape(train_dog))\n",
    "# print(np.shape(train_cat))\n",
    "# print(np.shape(train_data))\n",
    "print(np.shape(train_data))\n",
    "print(np.shape(train_label))\n",
    "\n",
    "index = np.arange(8005)\n",
    "print(index)\n",
    "np.random.shuffle(index)\n",
    "print(index)\n",
    "train_data = train_data[index]\n",
    "train_label = train_label[index]"
   ]
  },
  {
   "cell_type": "code",
   "execution_count": 3,
   "id": "1dfd0cbc",
   "metadata": {},
   "outputs": [
    {
     "name": "stdout",
     "output_type": "stream",
     "text": [
      "(2023, 1, 128, 128)\n",
      "(2023,)\n"
     ]
    }
   ],
   "source": [
    "test_cat = load_data_from_folder(test_path_cats)\n",
    "t_cat_label = np.zeros(len(test_cat))\n",
    "test_dog = load_data_from_folder(test_path_dogs)\n",
    "t_dog_label = np.ones(len(test_dog))\n",
    "\n",
    "test_data = np.vstack((test_cat, test_dog))\n",
    "test_label = np.hstack((t_dog_label, t_cat_label))\n",
    "train_data = train_data/255\n",
    "test_data = test_data/255\n",
    "# print(np.shape(train_dog))\n",
    "# print(np.shape(train_cat))\n",
    "# print(np.shape(train_data))\n",
    "print(np.shape(test_data))\n",
    "print(np.shape(test_label))\n",
    "\n",
    "index = np.arange(len(test_data))\n",
    "np.random.shuffle(index)\n",
    "test_data = test_data[index]\n",
    "test_label = test_label[index]"
   ]
  },
  {
   "cell_type": "code",
   "execution_count": 4,
   "id": "142cff5d",
   "metadata": {},
   "outputs": [
    {
     "name": "stdout",
     "output_type": "stream",
     "text": [
      "torch.Size([8005, 1, 128, 128])\n",
      "torch.Size([8005])\n"
     ]
    }
   ],
   "source": [
    "import torch\n",
    "\n",
    "train_data = torch.tensor(train_data, dtype=torch.float32)\n",
    "train_label = torch.tensor(train_label, dtype=torch.long)\n",
    "test_data = torch.tensor(test_data, dtype=torch.float32)\n",
    "test_label = torch.tensor(test_label, dtype=torch.long)\n",
    "train_data = train_data.view(8005, 1, 128, 128)\n",
    "train_label = train_label.view(8005)\n",
    "test_data = test_data.view(2023, 1, 128, 128)\n",
    "test_label = test_label.view(2023)\n",
    "print(train_data.shape)\n",
    "print(train_label.shape)"
   ]
  },
  {
   "cell_type": "code",
   "execution_count": 5,
   "id": "cbd0b894",
   "metadata": {},
   "outputs": [
    {
     "name": "stdout",
     "output_type": "stream",
     "text": [
      "<torch.utils.data.dataset.TensorDataset object at 0x102c6d210>\n"
     ]
    }
   ],
   "source": [
    "from torch.utils.data import TensorDataset, DataLoader\n",
    "\n",
    "train = TensorDataset(train_data, train_label)\n",
    "print(train)\n",
    "trainset = DataLoader(train, batch_size = 32, shuffle=True)\n",
    "# for data in trainset:\n",
    "#     x, y = data\n",
    "#     print(x.shape)"
   ]
  },
  {
   "cell_type": "code",
   "execution_count": 6,
   "id": "c2003320",
   "metadata": {},
   "outputs": [
    {
     "name": "stdout",
     "output_type": "stream",
     "text": [
      "[tensor([[[[0.2667, 0.2627, 0.2745,  ..., 0.2941, 0.2784, 0.2745],\n",
      "          [0.2667, 0.2667, 0.2706,  ..., 0.2941, 0.2824, 0.2784],\n",
      "          [0.2667, 0.2627, 0.2667,  ..., 0.2863, 0.2863, 0.2824],\n",
      "          ...,\n",
      "          [0.3490, 0.3490, 0.3451,  ..., 0.3294, 0.3294, 0.3216],\n",
      "          [0.3412, 0.3412, 0.3412,  ..., 0.3176, 0.3216, 0.3137],\n",
      "          [0.3373, 0.3373, 0.3412,  ..., 0.3137, 0.3098, 0.3020]]],\n",
      "\n",
      "\n",
      "        [[[0.6784, 0.6745, 0.5255,  ..., 0.1373, 0.1529, 0.1647],\n",
      "          [0.4471, 0.7098, 0.7020,  ..., 0.1451, 0.1569, 0.1725],\n",
      "          [0.2314, 0.5725, 0.6627,  ..., 0.1490, 0.1647, 0.1647],\n",
      "          ...,\n",
      "          [0.3412, 0.3412, 0.3373,  ..., 0.3961, 0.3059, 0.2980],\n",
      "          [0.3176, 0.3412, 0.3333,  ..., 0.7725, 0.4667, 0.3843],\n",
      "          [0.3176, 0.3373, 0.3255,  ..., 0.6706, 0.6235, 0.5882]]],\n",
      "\n",
      "\n",
      "        [[[0.7686, 0.7608, 0.7529,  ..., 0.2118, 0.2078, 0.2000],\n",
      "          [0.7529, 0.7451, 0.7451,  ..., 0.1961, 0.1961, 0.2039],\n",
      "          [0.7529, 0.7412, 0.7490,  ..., 0.1922, 0.1961, 0.2039],\n",
      "          ...,\n",
      "          [0.6510, 0.5922, 0.6000,  ..., 0.5725, 0.5804, 0.5529],\n",
      "          [0.6157, 0.6196, 0.6353,  ..., 0.6275, 0.6157, 0.6000],\n",
      "          [0.6510, 0.6353, 0.6392,  ..., 0.6078, 0.6118, 0.6588]]],\n",
      "\n",
      "\n",
      "        ...,\n",
      "\n",
      "\n",
      "        [[[0.0039, 0.0039, 0.0039,  ..., 0.1686, 0.2078, 0.2275],\n",
      "          [0.0039, 0.0039, 0.0039,  ..., 0.1765, 0.2157, 0.2157],\n",
      "          [0.0039, 0.0039, 0.0039,  ..., 0.1922, 0.2353, 0.2078],\n",
      "          ...,\n",
      "          [0.0941, 0.1725, 0.2549,  ..., 0.5412, 0.5333, 0.5294],\n",
      "          [0.1059, 0.1765, 0.2549,  ..., 0.5412, 0.5333, 0.5294],\n",
      "          [0.1098, 0.1765, 0.2510,  ..., 0.5373, 0.5333, 0.5294]]],\n",
      "\n",
      "\n",
      "        [[[0.2824, 0.2667, 0.2627,  ..., 0.6863, 0.6824, 0.6824],\n",
      "          [0.3608, 0.2275, 0.2549,  ..., 0.6824, 0.6824, 0.6902],\n",
      "          [0.4039, 0.3059, 0.2471,  ..., 0.6784, 0.6784, 0.6863],\n",
      "          ...,\n",
      "          [0.6235, 0.6275, 0.6235,  ..., 0.4471, 0.4549, 0.4667],\n",
      "          [0.6275, 0.6275, 0.6235,  ..., 0.4392, 0.4392, 0.4431],\n",
      "          [0.6471, 0.6392, 0.6471,  ..., 0.4471, 0.4471, 0.4588]]],\n",
      "\n",
      "\n",
      "        [[[0.2118, 0.2118, 0.2039,  ..., 0.5137, 0.5176, 0.5137],\n",
      "          [0.2078, 0.2078, 0.2039,  ..., 0.5137, 0.5176, 0.5176],\n",
      "          [0.2078, 0.2039, 0.2039,  ..., 0.5137, 0.5176, 0.5176],\n",
      "          ...,\n",
      "          [0.4706, 0.4314, 0.3804,  ..., 0.7569, 0.7569, 0.7490],\n",
      "          [0.4431, 0.4078, 0.3765,  ..., 0.7725, 0.7765, 0.7608],\n",
      "          [0.4157, 0.4275, 0.4431,  ..., 0.8314, 0.7922, 0.7804]]]]), tensor([1, 0, 0, 1, 0, 0, 1, 0, 0, 0, 0, 0, 0, 0, 0, 0, 1, 1, 0, 0, 0, 0, 1, 0,\n",
      "        0, 0, 0, 0, 0, 1, 0, 1])]\n"
     ]
    }
   ],
   "source": [
    "for data in trainset:\n",
    "    print(data)\n",
    "    break"
   ]
  },
  {
   "cell_type": "code",
   "execution_count": 10,
   "id": "fb729371",
   "metadata": {},
   "outputs": [],
   "source": [
    "import torch.nn as nn\n",
    "import torch.nn.functional as F\n",
    "\n",
    "class cnn(nn.Module):\n",
    "    def __init__(self):\n",
    "        super().__init__()\n",
    "        self.l1 = nn.Conv2d(1, 32, kernel_size=3, padding=1)\n",
    "        self.pool = nn.MaxPool2d(kernel_size=2, stride=2, padding=0)\n",
    "        self.l2 = nn.Conv2d(32, 64, kernel_size=3, padding=1)\n",
    "        self.l3 = nn.Conv2d(64, 128, kernel_size=3, padding=1)\n",
    "        self.l5 = nn.Linear(128*16*16, 512)\n",
    "        self.l6 = nn.Linear(512, 2)\n",
    "#         self.l5 = nn.Linear(32, 2)\n",
    "        self.dropout = nn.Dropout(p=0.1)\n",
    "        \n",
    "    def forward(self, x):\n",
    "        x = self.pool(F.relu(self.l1(x)))\n",
    "        x = self.pool(F.relu(self.l2(x)))\n",
    "        x = self.pool(F.relu(self.l3(x)))\n",
    "#         x = self.pool(F.relu(self.l4(x)))\n",
    "        x = x.view(-1, 128*16*16)\n",
    "        x = F.relu(self.l5(x))\n",
    "#         x = self.dropout(x)\n",
    "#         x = F.relu(self.l4(x))\n",
    "        x = F.log_softmax(self.l6(x), dim=1)\n",
    "        return x\n",
    "    \n",
    "model = cnn()"
   ]
  },
  {
   "cell_type": "code",
   "execution_count": 11,
   "id": "01de257e",
   "metadata": {},
   "outputs": [],
   "source": [
    "from torch.optim import Adam\n",
    "\n",
    "optimizer = Adam(model.parameters(), lr=0.001)\n",
    "criterian = nn.CrossEntropyLoss()"
   ]
  },
  {
   "cell_type": "code",
   "execution_count": 13,
   "id": "da5c65a3",
   "metadata": {},
   "outputs": [
    {
     "name": "stdout",
     "output_type": "stream",
     "text": [
      "Epochs: 0, loss: 0.5632365345954895\n",
      "Epochs: 1, loss: 0.154405415058136\n",
      "Epochs: 2, loss: 0.11312683671712875\n",
      "Epochs: 3, loss: 0.2969934940338135\n",
      "Epochs: 4, loss: 0.12176699936389923\n",
      "Epochs: 5, loss: 0.022735456004738808\n",
      "Epochs: 6, loss: 0.10445155203342438\n",
      "Epochs: 7, loss: 0.010300679132342339\n",
      "Epochs: 8, loss: 0.001051824539899826\n",
      "Epochs: 9, loss: 0.0028567102272063494\n",
      "Epochs: 10, loss: 0.0006886792834848166\n",
      "Epochs: 11, loss: 0.11909200996160507\n",
      "Epochs: 12, loss: 0.003712850157171488\n",
      "Epochs: 13, loss: 5.5162970966193825e-05\n",
      "Epochs: 14, loss: 0.006021395791321993\n",
      "Epochs: 15, loss: 0.004009475000202656\n",
      "Epochs: 16, loss: 0.10645373165607452\n",
      "Epochs: 17, loss: 0.0004662802384700626\n",
      "Epochs: 18, loss: 0.0003107603988610208\n",
      "Epochs: 19, loss: 0.006553503219038248\n",
      "Epochs: 20, loss: 7.098956120898947e-05\n",
      "Epochs: 21, loss: 0.0007867346284911036\n",
      "Epochs: 22, loss: 2.8847751309513114e-05\n",
      "Epochs: 23, loss: 5.626635811495362e-06\n",
      "Epochs: 24, loss: 0.0834660679101944\n",
      "Epochs: 25, loss: 1.049039155986975e-06\n",
      "Epochs: 26, loss: 4.005393748229835e-06\n",
      "Epochs: 27, loss: 2.3864276954554953e-05\n",
      "Epochs: 28, loss: 0.00011753042053896934\n",
      "Epochs: 29, loss: 0.00048576839617453516\n"
     ]
    }
   ],
   "source": [
    "EPOCH = 20\n",
    "for epochs in range(EPOCH):\n",
    "    for data in trainset:\n",
    "        \n",
    "        x,y = data\n",
    "        optimizer.zero_grad()\n",
    "        \n",
    "        new_o = model(x)\n",
    "        loss = criterian(new_o, y)\n",
    "        loss.backward()\n",
    "        \n",
    "        optimizer.step()\n",
    "    print(f'Epochs: {epochs}, loss: {loss.item()}')"
   ]
  },
  {
   "cell_type": "code",
   "execution_count": 14,
   "id": "92d0cfda",
   "metadata": {},
   "outputs": [
    {
     "name": "stdout",
     "output_type": "stream",
     "text": [
      "1570\n",
      "0.7760751359367276\n"
     ]
    }
   ],
   "source": [
    "def calculate_accuracy(outputs, labels):\n",
    "    _, predicted = torch.max(outputs, 1)\n",
    "    correct = (predicted == labels).sum().item()\n",
    "    return correct\n",
    "\n",
    "test = TensorDataset(test_data, test_label)\n",
    "testset = DataLoader(test, batch_size=2023, shuffle=True)\n",
    "net_correct = 0\n",
    "net_accuracy = 0\n",
    "\n",
    "for data in testset:\n",
    "    x, y = data\n",
    "    output = model(x)\n",
    "    net_correct += calculate_accuracy(output, y)\n",
    "    \n",
    "net_accuracy = net_correct/2023\n",
    "print(net_correct)\n",
    "print(net_accuracy)"
   ]
  },
  {
   "cell_type": "code",
   "execution_count": 15,
   "id": "5d08ca33",
   "metadata": {},
   "outputs": [
    {
     "name": "stdout",
     "output_type": "stream",
     "text": [
      "7971\n",
      "3.940187839841819\n"
     ]
    }
   ],
   "source": [
    "net_correct = 0\n",
    "net_accuracy = 0\n",
    "\n",
    "for data in trainset:\n",
    "    x, y = data\n",
    "    output = model(x)\n",
    "    net_correct += calculate_accuracy(output, y)\n",
    "    \n",
    "net_accuracy = net_correct/8005\n",
    "print(net_correct)\n",
    "print(net_accuracy)"
   ]
  }
 ],
 "metadata": {
  "kernelspec": {
   "display_name": "Python 3 (ipykernel)",
   "language": "python",
   "name": "python3"
  },
  "language_info": {
   "codemirror_mode": {
    "name": "ipython",
    "version": 3
   },
   "file_extension": ".py",
   "mimetype": "text/x-python",
   "name": "python",
   "nbconvert_exporter": "python",
   "pygments_lexer": "ipython3",
   "version": "3.11.7"
  }
 },
 "nbformat": 4,
 "nbformat_minor": 5
}
